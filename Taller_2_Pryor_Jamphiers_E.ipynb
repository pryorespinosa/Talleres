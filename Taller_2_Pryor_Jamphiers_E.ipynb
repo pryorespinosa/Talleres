{
  "cells": [
    {
      "cell_type": "markdown",
      "metadata": {
        "toc": true,
        "id": "VrlHpdPZMsTf"
      },
      "source": [
        "<h1>Table of Contents<span class=\"tocSkip\"></span></h1>\n",
        "<div class=\"toc\"><ul class=\"toc-item\"><li><span><a href=\"#Ejercicio-Fechas-Publicación\" data-toc-modified-id=\"Ejercicio-Fechas-Publicación-1\"><span class=\"toc-item-num\">1&nbsp;&nbsp;</span>Ejercicio Fechas Publicación</a></span></li><li><span><a href=\"#Ejercicio-Tipo-de-Contrato-y-Subtipo-de-Contrato\" data-toc-modified-id=\"Ejercicio-Tipo-de-Contrato-y-Subtipo-de-Contrato-2\"><span class=\"toc-item-num\">2&nbsp;&nbsp;</span>Ejercicio Tipo de Contrato y Subtipo de Contrato</a></span></li><li><span><a href=\"#Ejercicio-Duración-del-contrato\" data-toc-modified-id=\"Ejercicio-Duración-del-contrato-3\"><span class=\"toc-item-num\">3&nbsp;&nbsp;</span>Ejercicio Duración del contrato</a></span></li></ul></div>"
      ]
    },
    {
      "cell_type": "markdown",
      "metadata": {
        "id": "qlCpPWaqMsTm"
      },
      "source": [
        "# Ejercicios Limpieza de Datos <a class=\"tocSkip\">\n",
        "\n",
        "por Mónica Tatiana Gutierrez B\n",
        "\n",
        "version 0.1, Feb 2021\n",
        "\n",
        "Parte de la clase Curso de visualización para ciencia de datos en Python\n",
        "\n",
        "Ejercicios resueltos: Pryor Jamphiers Espinosa Muñoz"
      ]
    },
    {
      "cell_type": "code",
      "execution_count": null,
      "metadata": {
        "ExecuteTime": {
          "end_time": "2021-03-01T03:42:20.681744Z",
          "start_time": "2021-03-01T03:42:19.827059Z"
        },
        "id": "Lwidb3PCMsTo"
      },
      "outputs": [],
      "source": [
        "import pandas as pd\n",
        "import numpy as np\n",
        "pd.set_option('display.max_columns', None) #Mostrar todas las columnas"
      ]
    },
    {
      "cell_type": "code",
      "source": [
        "from google.colab import drive\n",
        "drive.mount('/content/drive')"
      ],
      "metadata": {
        "colab": {
          "base_uri": "https://localhost:8080/"
        },
        "id": "juM-SLYcOJgq",
        "outputId": "ea93fd63-1294-4161-acf4-f51d55e3559e"
      },
      "execution_count": null,
      "outputs": [
        {
          "output_type": "stream",
          "name": "stdout",
          "text": [
            "Drive already mounted at /content/drive; to attempt to forcibly remount, call drive.mount(\"/content/drive\", force_remount=True).\n"
          ]
        }
      ]
    },
    {
      "cell_type": "code",
      "execution_count": null,
      "metadata": {
        "ExecuteTime": {
          "end_time": "2021-03-01T03:42:27.489283Z",
          "start_time": "2021-03-01T03:42:20.684746Z"
        },
        "id": "eahCzps3MsTr"
      },
      "outputs": [],
      "source": [
        "df_SECOP = pd.read_csv('/content/drive/MyDrive/Colab Notebooks/Visualización - Clases/SECOP_II_-_Procesos_de_Contrataci_n.csv', \n",
        "                 sep = ',',\n",
        "                 thousands=',', decimal='.',\n",
        "                 skip_blank_lines=True,\n",
        "                 low_memory = False,\n",
        "                 dtype={\n",
        "                     'Nit Entidad': str\n",
        "                 })"
      ]
    },
    {
      "cell_type": "code",
      "source": [
        "columns = ['Entidad',\n",
        "          'Nit Entidad',\n",
        "          'Departamento Entidad',\n",
        "          'Ciudad Entidad',\n",
        "          'OrdenEntidad',\n",
        "          'ID del Proceso',\n",
        "          'Referencia del Proceso',\n",
        "          'ID del Portafolio',\n",
        "          'Nombre del Procedimiento',\n",
        "          'Fase',\n",
        "          'Fecha de Publicacion del Proceso',\n",
        "          'Fecha de Ultima Publicación',\n",
        "          'Precio Base',\n",
        "          'Modalidad de Contratacion',\n",
        "          'Duracion',\n",
        "          'Unidad de Duracion',\n",
        "          'Adjudicado',\n",
        "          'ID Adjudicacion',\n",
        "          'CodigoProveedor',\n",
        "          'Nombre del Proveedor Adjudicado',\n",
        "          'NIT del Proveedor Adjudicado',\n",
        "          'Departamento Proveedor',\n",
        "          'Ciudad Proveedor',\n",
        "          'Valor Total Adjudicacion',\n",
        "          'Tipo de Contrato',\n",
        "          'Subtipo de Contrato']\n",
        "df_SECOP0 = df_SECOP.copy()\n",
        "df_SECOP0 = df_SECOP0[columns]\n",
        "df_SECOP0.dtypes"
      ],
      "metadata": {
        "colab": {
          "base_uri": "https://localhost:8080/"
        },
        "id": "YlLvwX9NPGvJ",
        "outputId": "65a0cd73-7563-4410-b7dc-0121c60a1f98"
      },
      "execution_count": null,
      "outputs": [
        {
          "output_type": "execute_result",
          "data": {
            "text/plain": [
              "Entidad                             object\n",
              "Nit Entidad                         object\n",
              "Departamento Entidad                object\n",
              "Ciudad Entidad                      object\n",
              "OrdenEntidad                        object\n",
              "ID del Proceso                      object\n",
              "Referencia del Proceso              object\n",
              "ID del Portafolio                   object\n",
              "Nombre del Procedimiento            object\n",
              "Fase                                object\n",
              "Fecha de Publicacion del Proceso    object\n",
              "Fecha de Ultima Publicación         object\n",
              "Precio Base                          int64\n",
              "Modalidad de Contratacion           object\n",
              "Duracion                             int64\n",
              "Unidad de Duracion                  object\n",
              "Adjudicado                          object\n",
              "ID Adjudicacion                     object\n",
              "CodigoProveedor                     object\n",
              "Nombre del Proveedor Adjudicado     object\n",
              "NIT del Proveedor Adjudicado        object\n",
              "Departamento Proveedor              object\n",
              "Ciudad Proveedor                    object\n",
              "Valor Total Adjudicacion             int64\n",
              "Tipo de Contrato                    object\n",
              "Subtipo de Contrato                 object\n",
              "dtype: object"
            ]
          },
          "metadata": {},
          "execution_count": 94
        }
      ]
    },
    {
      "cell_type": "code",
      "source": [
        "print('Antes de borrar registros: ',df_SECOP0.shape)\n",
        "for col in df_SECOP0.columns:\n",
        "    missing = df_SECOP0[col].isnull()\n",
        "    num_missing = np.sum(missing)\n",
        "    \n",
        "    if num_missing > 0:  \n",
        "        print('created missing indicator for: {}'.format(col))\n",
        "        df_SECOP0['{}_ismissing'.format(col)] = missing\n",
        "ismissing_cols = [col for col in df_SECOP0.columns if 'ismissing' in col]\n",
        "df_SECOP0['num_missing'] = df_SECOP0[ismissing_cols].sum(axis=1)"
      ],
      "metadata": {
        "colab": {
          "base_uri": "https://localhost:8080/"
        },
        "id": "y7Qiu-QHSU4e",
        "outputId": "b7bcad83-f38f-4dfe-9ee6-78c088d1f6b0"
      },
      "execution_count": null,
      "outputs": [
        {
          "output_type": "stream",
          "name": "stdout",
          "text": [
            "Antes de borrar registros:  (1688334, 26)\n",
            "created missing indicator for: Referencia del Proceso\n",
            "created missing indicator for: Nombre del Procedimiento\n",
            "created missing indicator for: Fecha de Publicacion del Proceso\n",
            "created missing indicator for: Fecha de Ultima Publicación\n",
            "created missing indicator for: NIT del Proveedor Adjudicado\n"
          ]
        }
      ]
    },
    {
      "cell_type": "code",
      "source": [
        "ind_missing = df_SECOP0[df_SECOP0['num_missing'] >= 1].index\n",
        "df_less_missing_rows = df_SECOP0.drop(ind_missing, axis=0)\n",
        "df_less_missing_rows = df_less_missing_rows[columns]\n",
        "print('Antes de borrar registros: ',df_SECOP0.shape)\n",
        "print('Después de borrar registros: ',df_less_missing_rows.shape)\n",
        "print('Cantidad registros borrados: ',df_SECOP0.shape[0]-df_less_missing_rows.shape[0])"
      ],
      "metadata": {
        "colab": {
          "base_uri": "https://localhost:8080/"
        },
        "id": "NV1QSHlsQ3yD",
        "outputId": "2914b4d8-e569-4a94-9d17-a062e1e94757"
      },
      "execution_count": null,
      "outputs": [
        {
          "output_type": "stream",
          "name": "stdout",
          "text": [
            "Antes de borrar registros:  (1688334, 32)\n",
            "Después de borrar registros:  (1686896, 26)\n",
            "Cantidad registros borrados:  1438\n"
          ]
        }
      ]
    },
    {
      "cell_type": "code",
      "source": [
        "df_dedupped = df_SECOP.drop_duplicates()\n",
        "print('Antes de quitar duplicados: ',df_SECOP.shape)\n",
        "print('Después de borrar registros: ',df_dedupped.shape)\n",
        "print('Cantidad registros borrados: ',df_SECOP.shape[0]-df_dedupped.shape[0])"
      ],
      "metadata": {
        "colab": {
          "base_uri": "https://localhost:8080/"
        },
        "id": "3i-T15ouTPhU",
        "outputId": "f2fe27ad-5aaa-48a6-897f-7788dcaad0ca"
      },
      "execution_count": null,
      "outputs": [
        {
          "output_type": "stream",
          "name": "stdout",
          "text": [
            "Antes de quitar duplicados:  (1688334, 59)\n",
            "Después de borrar registros:  (1688331, 59)\n",
            "Cantidad registros borrados:  3\n"
          ]
        }
      ]
    },
    {
      "cell_type": "code",
      "source": [
        "df_SECOP_C = df_less_missing_rows\n",
        "df_dedupped_SECOP = df_SECOP_C.drop_duplicates()\n",
        "\n",
        "print('Antes de quitar duplicados de la base sin datos faltantes: ',df_SECOP_C.shape)\n",
        "print('Después de borrar regeistros: ',df_ddupped_SECOP.shape)\n",
        "print('Cantidad registros borrados: ',df_SECOP_C.shape[0]-df_dedupped_SECOP.shape[0])"
      ],
      "metadata": {
        "colab": {
          "base_uri": "https://localhost:8080/"
        },
        "id": "B2P3cblvUL4Q",
        "outputId": "c900c07b-879c-4da2-d5b6-0622921c6e62"
      },
      "execution_count": null,
      "outputs": [
        {
          "output_type": "stream",
          "name": "stdout",
          "text": [
            "Antes de quitar duplicados de la base sin datos faltantes:  (1686896, 26)\n",
            "Después de borrar registros:  (1686893, 26)\n",
            "Cantidad registros borrados:  3\n"
          ]
        }
      ]
    },
    {
      "cell_type": "code",
      "source": [
        "df_dedupped_SECOP['EventCount'] = df_dedupped_SECOP['Nit Entidad'].str.len()\n",
        "df_consistency_SECOP = df_dedupped_SECOP[df_dedupped_SECOP['EventCount'] >= 9 ]"
      ],
      "metadata": {
        "colab": {
          "base_uri": "https://localhost:8080/"
        },
        "id": "9feMDUS7VRQi",
        "outputId": "5bcc142d-5852-4237-efcc-6a8bddf6c14a"
      },
      "execution_count": null,
      "outputs": [
        {
          "output_type": "stream",
          "name": "stderr",
          "text": [
            "/usr/local/lib/python3.7/dist-packages/ipykernel_launcher.py:1: SettingWithCopyWarning: \n",
            "A value is trying to be set on a copy of a slice from a DataFrame.\n",
            "Try using .loc[row_indexer,col_indexer] = value instead\n",
            "\n",
            "See the caveats in the documentation: https://pandas.pydata.org/pandas-docs/stable/user_guide/indexing.html#returning-a-view-versus-a-copy\n",
            "  \"\"\"Entry point for launching an IPython kernel.\n"
          ]
        }
      ]
    },
    {
      "cell_type": "markdown",
      "metadata": {
        "id": "fkA-pbFJMsTt"
      },
      "source": [
        "# Ejercicio Fechas Publicación"
      ]
    },
    {
      "cell_type": "markdown",
      "metadata": {
        "id": "YB7kCF8YMsTt"
      },
      "source": [
        "Teniendo en cuenta que existe una Fecha de Publicación del Proceso y una fecha de última publicación, realice la limpieza de formato de dichas variables. Defina una nueva variable en la que se calcule la diferencia de éstas dos fechas y responda si incluiría las dos fechas dentro de la fuente de datos.\n",
        "\n",
        "*Utilice estadísticas descriptivas para responder la pregunta*"
      ]
    },
    {
      "cell_type": "code",
      "source": [
        "df_consistency_SECOP['Fecha de Publicacion del Proceso'] = pd.to_datetime(df_consistency_SECOP['Fecha de Publicacion del Proceso'],format='%m/%d/%Y')\n",
        "df_consistency_SECOP['Fecha de Ultima Publicación'] = pd.to_datetime(df_consistency_SECOP['Fecha de Ultima Publicación'],format='%m/%d/%Y')\n",
        "df_consistency_SECOP.dtypes"
      ],
      "metadata": {
        "colab": {
          "base_uri": "https://localhost:8080/"
        },
        "id": "V7WzvniNTt2N",
        "outputId": "c866b582-8d0c-4d23-97e9-8d3186b65b6e"
      },
      "execution_count": null,
      "outputs": [
        {
          "output_type": "stream",
          "name": "stderr",
          "text": [
            "/usr/local/lib/python3.7/dist-packages/ipykernel_launcher.py:1: SettingWithCopyWarning: \n",
            "A value is trying to be set on a copy of a slice from a DataFrame.\n",
            "Try using .loc[row_indexer,col_indexer] = value instead\n",
            "\n",
            "See the caveats in the documentation: https://pandas.pydata.org/pandas-docs/stable/user_guide/indexing.html#returning-a-view-versus-a-copy\n",
            "  \"\"\"Entry point for launching an IPython kernel.\n",
            "/usr/local/lib/python3.7/dist-packages/ipykernel_launcher.py:2: SettingWithCopyWarning: \n",
            "A value is trying to be set on a copy of a slice from a DataFrame.\n",
            "Try using .loc[row_indexer,col_indexer] = value instead\n",
            "\n",
            "See the caveats in the documentation: https://pandas.pydata.org/pandas-docs/stable/user_guide/indexing.html#returning-a-view-versus-a-copy\n",
            "  \n"
          ]
        },
        {
          "output_type": "execute_result",
          "data": {
            "text/plain": [
              "Entidad                                     object\n",
              "Nit Entidad                                 object\n",
              "Departamento Entidad                        object\n",
              "Ciudad Entidad                              object\n",
              "OrdenEntidad                                object\n",
              "ID del Proceso                              object\n",
              "Referencia del Proceso                      object\n",
              "ID del Portafolio                           object\n",
              "Nombre del Procedimiento                    object\n",
              "Fase                                        object\n",
              "Fecha de Publicacion del Proceso    datetime64[ns]\n",
              "Fecha de Ultima Publicación         datetime64[ns]\n",
              "Precio Base                                  int64\n",
              "Modalidad de Contratacion                   object\n",
              "Duracion                                     int64\n",
              "Unidad de Duracion                          object\n",
              "Adjudicado                                  object\n",
              "ID Adjudicacion                             object\n",
              "CodigoProveedor                             object\n",
              "Nombre del Proveedor Adjudicado             object\n",
              "NIT del Proveedor Adjudicado                object\n",
              "Departamento Proveedor                      object\n",
              "Ciudad Proveedor                            object\n",
              "Valor Total Adjudicacion                     int64\n",
              "Tipo de Contrato                            object\n",
              "Subtipo de Contrato                         object\n",
              "EventCount                                   int64\n",
              "dtype: object"
            ]
          },
          "metadata": {},
          "execution_count": 100
        }
      ]
    },
    {
      "cell_type": "markdown",
      "source": [
        "**Resta de las fechas**"
      ],
      "metadata": {
        "id": "ma8badEFXMCb"
      }
    },
    {
      "cell_type": "code",
      "source": [
        "Dif_fechas = df_consistency_SECOP['Fecha de Publicacion del Proceso'] - df_consistency_SECOP['Fecha de Ultima Publicación']\n",
        "Dif_fechas.describe()"
      ],
      "metadata": {
        "colab": {
          "base_uri": "https://localhost:8080/"
        },
        "id": "tvslH610XPCp",
        "outputId": "727a2e4a-2005-4c1d-fac7-793749241bef"
      },
      "execution_count": null,
      "outputs": [
        {
          "output_type": "execute_result",
          "data": {
            "text/plain": [
              "count                      1684917\n",
              "mean     0 days 03:54:11.485740840\n",
              "std      0 days 08:51:24.239364293\n",
              "min                0 days 00:00:00\n",
              "25%                0 days 00:00:00\n",
              "50%                0 days 00:00:00\n",
              "75%                0 days 00:00:00\n",
              "max                1 days 00:00:00\n",
              "dtype: object"
            ]
          },
          "metadata": {},
          "execution_count": 101
        }
      ]
    },
    {
      "cell_type": "code",
      "source": [
        "Dif_fechas.value_counts()"
      ],
      "metadata": {
        "colab": {
          "base_uri": "https://localhost:8080/"
        },
        "id": "euXS2VtyaGmX",
        "outputId": "e1cccd6a-5d92-465f-9287-d4b016e0d232"
      },
      "execution_count": null,
      "outputs": [
        {
          "output_type": "execute_result",
          "data": {
            "text/plain": [
              "0 days    1410894\n",
              "1 days     274023\n",
              "dtype: int64"
            ]
          },
          "metadata": {},
          "execution_count": 102
        }
      ]
    },
    {
      "cell_type": "markdown",
      "source": [
        "se eliminan las fecha de publicación del proceso y dejar la fecha ,as reciente, la ultima fecha de publicación."
      ],
      "metadata": {
        "id": "a7ZZJZzhZGjJ"
      }
    },
    {
      "cell_type": "markdown",
      "metadata": {
        "id": "34ByiWLyMsTx"
      },
      "source": [
        "## Ejercicio Tipo de Contrato y Subtipo de Contrato\n",
        "De acuerdo con las variables Contrato y Subcontrato, realice una tabla cruzada y responda ¿Vale la pena dejar ambas variables en la fuente de datos?"
      ]
    },
    {
      "cell_type": "code",
      "execution_count": null,
      "metadata": {
        "ExecuteTime": {
          "end_time": "2021-03-01T03:40:17.320326Z",
          "start_time": "2021-03-01T03:40:16.982353Z"
        },
        "id": "sju8p8hvMsTy",
        "colab": {
          "base_uri": "https://localhost:8080/",
          "height": 614
        },
        "outputId": "caecd828-2497-43c5-f4a9-d8203b21854d"
      },
      "outputs": [
        {
          "output_type": "execute_result",
          "data": {
            "text/plain": [
              "Subtipo de Contrato             No Especificado\n",
              "Tipo de Contrato                               \n",
              "27 - Otros servicios                      75058\n",
              "Acuerdo Marco                              1092\n",
              "Alquiler de edificios                     14759\n",
              "Arrendamiento Muebles                      1159\n",
              "Comisión                                    116\n",
              "Compraventa                               62272\n",
              "Concesión                                   146\n",
              "Consultoría                                6007\n",
              "Decreto 092 de 2017                       58583\n",
              "Interventoría                              7046\n",
              "ND                                        51512\n",
              "No Especificado                              17\n",
              "Obra                                      24662\n",
              "Seguros                                    4216\n",
              "Servicios de aprovisionamiento          1306192\n",
              "Suministros                               71892\n",
              "Ventas de muebles                           188"
            ],
            "text/html": [
              "\n",
              "  <div id=\"df-5062bce5-a4a4-483b-9e72-07d1521f8832\">\n",
              "    <div class=\"colab-df-container\">\n",
              "      <div>\n",
              "<style scoped>\n",
              "    .dataframe tbody tr th:only-of-type {\n",
              "        vertical-align: middle;\n",
              "    }\n",
              "\n",
              "    .dataframe tbody tr th {\n",
              "        vertical-align: top;\n",
              "    }\n",
              "\n",
              "    .dataframe thead th {\n",
              "        text-align: right;\n",
              "    }\n",
              "</style>\n",
              "<table border=\"1\" class=\"dataframe\">\n",
              "  <thead>\n",
              "    <tr style=\"text-align: right;\">\n",
              "      <th>Subtipo de Contrato</th>\n",
              "      <th>No Especificado</th>\n",
              "    </tr>\n",
              "    <tr>\n",
              "      <th>Tipo de Contrato</th>\n",
              "      <th></th>\n",
              "    </tr>\n",
              "  </thead>\n",
              "  <tbody>\n",
              "    <tr>\n",
              "      <th>27 - Otros servicios</th>\n",
              "      <td>75058</td>\n",
              "    </tr>\n",
              "    <tr>\n",
              "      <th>Acuerdo Marco</th>\n",
              "      <td>1092</td>\n",
              "    </tr>\n",
              "    <tr>\n",
              "      <th>Alquiler de edificios</th>\n",
              "      <td>14759</td>\n",
              "    </tr>\n",
              "    <tr>\n",
              "      <th>Arrendamiento Muebles</th>\n",
              "      <td>1159</td>\n",
              "    </tr>\n",
              "    <tr>\n",
              "      <th>Comisión</th>\n",
              "      <td>116</td>\n",
              "    </tr>\n",
              "    <tr>\n",
              "      <th>Compraventa</th>\n",
              "      <td>62272</td>\n",
              "    </tr>\n",
              "    <tr>\n",
              "      <th>Concesión</th>\n",
              "      <td>146</td>\n",
              "    </tr>\n",
              "    <tr>\n",
              "      <th>Consultoría</th>\n",
              "      <td>6007</td>\n",
              "    </tr>\n",
              "    <tr>\n",
              "      <th>Decreto 092 de 2017</th>\n",
              "      <td>58583</td>\n",
              "    </tr>\n",
              "    <tr>\n",
              "      <th>Interventoría</th>\n",
              "      <td>7046</td>\n",
              "    </tr>\n",
              "    <tr>\n",
              "      <th>ND</th>\n",
              "      <td>51512</td>\n",
              "    </tr>\n",
              "    <tr>\n",
              "      <th>No Especificado</th>\n",
              "      <td>17</td>\n",
              "    </tr>\n",
              "    <tr>\n",
              "      <th>Obra</th>\n",
              "      <td>24662</td>\n",
              "    </tr>\n",
              "    <tr>\n",
              "      <th>Seguros</th>\n",
              "      <td>4216</td>\n",
              "    </tr>\n",
              "    <tr>\n",
              "      <th>Servicios de aprovisionamiento</th>\n",
              "      <td>1306192</td>\n",
              "    </tr>\n",
              "    <tr>\n",
              "      <th>Suministros</th>\n",
              "      <td>71892</td>\n",
              "    </tr>\n",
              "    <tr>\n",
              "      <th>Ventas de muebles</th>\n",
              "      <td>188</td>\n",
              "    </tr>\n",
              "  </tbody>\n",
              "</table>\n",
              "</div>\n",
              "      <button class=\"colab-df-convert\" onclick=\"convertToInteractive('df-5062bce5-a4a4-483b-9e72-07d1521f8832')\"\n",
              "              title=\"Convert this dataframe to an interactive table.\"\n",
              "              style=\"display:none;\">\n",
              "        \n",
              "  <svg xmlns=\"http://www.w3.org/2000/svg\" height=\"24px\"viewBox=\"0 0 24 24\"\n",
              "       width=\"24px\">\n",
              "    <path d=\"M0 0h24v24H0V0z\" fill=\"none\"/>\n",
              "    <path d=\"M18.56 5.44l.94 2.06.94-2.06 2.06-.94-2.06-.94-.94-2.06-.94 2.06-2.06.94zm-11 1L8.5 8.5l.94-2.06 2.06-.94-2.06-.94L8.5 2.5l-.94 2.06-2.06.94zm10 10l.94 2.06.94-2.06 2.06-.94-2.06-.94-.94-2.06-.94 2.06-2.06.94z\"/><path d=\"M17.41 7.96l-1.37-1.37c-.4-.4-.92-.59-1.43-.59-.52 0-1.04.2-1.43.59L10.3 9.45l-7.72 7.72c-.78.78-.78 2.05 0 2.83L4 21.41c.39.39.9.59 1.41.59.51 0 1.02-.2 1.41-.59l7.78-7.78 2.81-2.81c.8-.78.8-2.07 0-2.86zM5.41 20L4 18.59l7.72-7.72 1.47 1.35L5.41 20z\"/>\n",
              "  </svg>\n",
              "      </button>\n",
              "      \n",
              "  <style>\n",
              "    .colab-df-container {\n",
              "      display:flex;\n",
              "      flex-wrap:wrap;\n",
              "      gap: 12px;\n",
              "    }\n",
              "\n",
              "    .colab-df-convert {\n",
              "      background-color: #E8F0FE;\n",
              "      border: none;\n",
              "      border-radius: 50%;\n",
              "      cursor: pointer;\n",
              "      display: none;\n",
              "      fill: #1967D2;\n",
              "      height: 32px;\n",
              "      padding: 0 0 0 0;\n",
              "      width: 32px;\n",
              "    }\n",
              "\n",
              "    .colab-df-convert:hover {\n",
              "      background-color: #E2EBFA;\n",
              "      box-shadow: 0px 1px 2px rgba(60, 64, 67, 0.3), 0px 1px 3px 1px rgba(60, 64, 67, 0.15);\n",
              "      fill: #174EA6;\n",
              "    }\n",
              "\n",
              "    [theme=dark] .colab-df-convert {\n",
              "      background-color: #3B4455;\n",
              "      fill: #D2E3FC;\n",
              "    }\n",
              "\n",
              "    [theme=dark] .colab-df-convert:hover {\n",
              "      background-color: #434B5C;\n",
              "      box-shadow: 0px 1px 3px 1px rgba(0, 0, 0, 0.15);\n",
              "      filter: drop-shadow(0px 1px 2px rgba(0, 0, 0, 0.3));\n",
              "      fill: #FFFFFF;\n",
              "    }\n",
              "  </style>\n",
              "\n",
              "      <script>\n",
              "        const buttonEl =\n",
              "          document.querySelector('#df-5062bce5-a4a4-483b-9e72-07d1521f8832 button.colab-df-convert');\n",
              "        buttonEl.style.display =\n",
              "          google.colab.kernel.accessAllowed ? 'block' : 'none';\n",
              "\n",
              "        async function convertToInteractive(key) {\n",
              "          const element = document.querySelector('#df-5062bce5-a4a4-483b-9e72-07d1521f8832');\n",
              "          const dataTable =\n",
              "            await google.colab.kernel.invokeFunction('convertToInteractive',\n",
              "                                                     [key], {});\n",
              "          if (!dataTable) return;\n",
              "\n",
              "          const docLinkHtml = 'Like what you see? Visit the ' +\n",
              "            '<a target=\"_blank\" href=https://colab.research.google.com/notebooks/data_table.ipynb>data table notebook</a>'\n",
              "            + ' to learn more about interactive tables.';\n",
              "          element.innerHTML = '';\n",
              "          dataTable['output_type'] = 'display_data';\n",
              "          await google.colab.output.renderOutput(dataTable, element);\n",
              "          const docLink = document.createElement('div');\n",
              "          docLink.innerHTML = docLinkHtml;\n",
              "          element.appendChild(docLink);\n",
              "        }\n",
              "      </script>\n",
              "    </div>\n",
              "  </div>\n",
              "  "
            ]
          },
          "metadata": {},
          "execution_count": 103
        }
      ],
      "source": [
        "tab1 = pd.crosstab(df_consistency_SECOP[\"Tipo de Contrato\"],df_consistency_SECOP[\"Subtipo de Contrato\"])\n",
        "tab1"
      ]
    },
    {
      "cell_type": "code",
      "source": [
        "df_consistency_SECOP[\"Subtipo de Contrato\"].value_counts()"
      ],
      "metadata": {
        "colab": {
          "base_uri": "https://localhost:8080/"
        },
        "id": "WirSoZv_cCw5",
        "outputId": "2befb6a7-9af8-4d91-a5df-b764552eec3a"
      },
      "execution_count": null,
      "outputs": [
        {
          "output_type": "execute_result",
          "data": {
            "text/plain": [
              "No Especificado    1684917\n",
              "Name: Subtipo de Contrato, dtype: int64"
            ]
          },
          "metadata": {},
          "execution_count": 104
        }
      ]
    },
    {
      "cell_type": "markdown",
      "source": [
        "Se deja la variable Tipo de contrato por su relevancia en la tabla."
      ],
      "metadata": {
        "id": "MX3b-hsOcmFY"
      }
    },
    {
      "cell_type": "markdown",
      "metadata": {
        "id": "nEc8JoDRMsTz"
      },
      "source": [
        "## Ejercicio en clase de duración\n",
        "Creación de variable en nuevo parametro de duración."
      ]
    },
    {
      "cell_type": "code",
      "execution_count": null,
      "metadata": {
        "ExecuteTime": {
          "end_time": "2021-03-01T03:42:27.614051Z",
          "start_time": "2021-03-01T03:42:27.495282Z"
        },
        "id": "uiknCswmMsT0",
        "outputId": "7eecdfd7-3bb9-4461-95e7-62c8b051967f",
        "colab": {
          "base_uri": "https://localhost:8080/"
        }
      },
      "outputs": [
        {
          "output_type": "execute_result",
          "data": {
            "text/plain": [
              "Dias     840340\n",
              "Meses    753211\n",
              "ND        78663\n",
              "Años      12703\n",
              "Name: Unidad de Duracion, dtype: int64"
            ]
          },
          "metadata": {},
          "execution_count": 105
        }
      ],
      "source": [
        "df_consistency_SECOP['Unidad de Duracion'].value_counts()"
      ]
    },
    {
      "cell_type": "code",
      "execution_count": null,
      "metadata": {
        "ExecuteTime": {
          "end_time": "2021-03-01T03:42:27.708467Z",
          "start_time": "2021-03-01T03:42:27.617595Z"
        },
        "scrolled": true,
        "id": "bjKeNHrKMsT1",
        "outputId": "f5cc8ac1-0526-4aa7-c62e-9edbb5a484d9",
        "colab": {
          "base_uri": "https://localhost:8080/",
          "height": 677
        }
      },
      "outputs": [
        {
          "output_type": "execute_result",
          "data": {
            "text/plain": [
              "    Unidad de Duracion  Duracion\n",
              "22               Meses         6\n",
              "23                Dias       240\n",
              "48                Dias        70\n",
              "61                Dias       105\n",
              "63                Dias        45\n",
              "74                Dias        30\n",
              "83                  ND         0\n",
              "104              Meses         8\n",
              "117              Meses         4\n",
              "119               Dias       250\n",
              "144              Meses         9\n",
              "150              Meses         3\n",
              "152              Meses        10\n",
              "159               Dias        91\n",
              "165               Dias       120\n",
              "178               Dias       140\n",
              "182              Meses         5\n",
              "183               Dias       120\n",
              "203              Meses        11\n",
              "213              Meses         2"
            ],
            "text/html": [
              "\n",
              "  <div id=\"df-beab5198-ed76-4437-b81b-53deed79e2dd\">\n",
              "    <div class=\"colab-df-container\">\n",
              "      <div>\n",
              "<style scoped>\n",
              "    .dataframe tbody tr th:only-of-type {\n",
              "        vertical-align: middle;\n",
              "    }\n",
              "\n",
              "    .dataframe tbody tr th {\n",
              "        vertical-align: top;\n",
              "    }\n",
              "\n",
              "    .dataframe thead th {\n",
              "        text-align: right;\n",
              "    }\n",
              "</style>\n",
              "<table border=\"1\" class=\"dataframe\">\n",
              "  <thead>\n",
              "    <tr style=\"text-align: right;\">\n",
              "      <th></th>\n",
              "      <th>Unidad de Duracion</th>\n",
              "      <th>Duracion</th>\n",
              "    </tr>\n",
              "  </thead>\n",
              "  <tbody>\n",
              "    <tr>\n",
              "      <th>22</th>\n",
              "      <td>Meses</td>\n",
              "      <td>6</td>\n",
              "    </tr>\n",
              "    <tr>\n",
              "      <th>23</th>\n",
              "      <td>Dias</td>\n",
              "      <td>240</td>\n",
              "    </tr>\n",
              "    <tr>\n",
              "      <th>48</th>\n",
              "      <td>Dias</td>\n",
              "      <td>70</td>\n",
              "    </tr>\n",
              "    <tr>\n",
              "      <th>61</th>\n",
              "      <td>Dias</td>\n",
              "      <td>105</td>\n",
              "    </tr>\n",
              "    <tr>\n",
              "      <th>63</th>\n",
              "      <td>Dias</td>\n",
              "      <td>45</td>\n",
              "    </tr>\n",
              "    <tr>\n",
              "      <th>74</th>\n",
              "      <td>Dias</td>\n",
              "      <td>30</td>\n",
              "    </tr>\n",
              "    <tr>\n",
              "      <th>83</th>\n",
              "      <td>ND</td>\n",
              "      <td>0</td>\n",
              "    </tr>\n",
              "    <tr>\n",
              "      <th>104</th>\n",
              "      <td>Meses</td>\n",
              "      <td>8</td>\n",
              "    </tr>\n",
              "    <tr>\n",
              "      <th>117</th>\n",
              "      <td>Meses</td>\n",
              "      <td>4</td>\n",
              "    </tr>\n",
              "    <tr>\n",
              "      <th>119</th>\n",
              "      <td>Dias</td>\n",
              "      <td>250</td>\n",
              "    </tr>\n",
              "    <tr>\n",
              "      <th>144</th>\n",
              "      <td>Meses</td>\n",
              "      <td>9</td>\n",
              "    </tr>\n",
              "    <tr>\n",
              "      <th>150</th>\n",
              "      <td>Meses</td>\n",
              "      <td>3</td>\n",
              "    </tr>\n",
              "    <tr>\n",
              "      <th>152</th>\n",
              "      <td>Meses</td>\n",
              "      <td>10</td>\n",
              "    </tr>\n",
              "    <tr>\n",
              "      <th>159</th>\n",
              "      <td>Dias</td>\n",
              "      <td>91</td>\n",
              "    </tr>\n",
              "    <tr>\n",
              "      <th>165</th>\n",
              "      <td>Dias</td>\n",
              "      <td>120</td>\n",
              "    </tr>\n",
              "    <tr>\n",
              "      <th>178</th>\n",
              "      <td>Dias</td>\n",
              "      <td>140</td>\n",
              "    </tr>\n",
              "    <tr>\n",
              "      <th>182</th>\n",
              "      <td>Meses</td>\n",
              "      <td>5</td>\n",
              "    </tr>\n",
              "    <tr>\n",
              "      <th>183</th>\n",
              "      <td>Dias</td>\n",
              "      <td>120</td>\n",
              "    </tr>\n",
              "    <tr>\n",
              "      <th>203</th>\n",
              "      <td>Meses</td>\n",
              "      <td>11</td>\n",
              "    </tr>\n",
              "    <tr>\n",
              "      <th>213</th>\n",
              "      <td>Meses</td>\n",
              "      <td>2</td>\n",
              "    </tr>\n",
              "  </tbody>\n",
              "</table>\n",
              "</div>\n",
              "      <button class=\"colab-df-convert\" onclick=\"convertToInteractive('df-beab5198-ed76-4437-b81b-53deed79e2dd')\"\n",
              "              title=\"Convert this dataframe to an interactive table.\"\n",
              "              style=\"display:none;\">\n",
              "        \n",
              "  <svg xmlns=\"http://www.w3.org/2000/svg\" height=\"24px\"viewBox=\"0 0 24 24\"\n",
              "       width=\"24px\">\n",
              "    <path d=\"M0 0h24v24H0V0z\" fill=\"none\"/>\n",
              "    <path d=\"M18.56 5.44l.94 2.06.94-2.06 2.06-.94-2.06-.94-.94-2.06-.94 2.06-2.06.94zm-11 1L8.5 8.5l.94-2.06 2.06-.94-2.06-.94L8.5 2.5l-.94 2.06-2.06.94zm10 10l.94 2.06.94-2.06 2.06-.94-2.06-.94-.94-2.06-.94 2.06-2.06.94z\"/><path d=\"M17.41 7.96l-1.37-1.37c-.4-.4-.92-.59-1.43-.59-.52 0-1.04.2-1.43.59L10.3 9.45l-7.72 7.72c-.78.78-.78 2.05 0 2.83L4 21.41c.39.39.9.59 1.41.59.51 0 1.02-.2 1.41-.59l7.78-7.78 2.81-2.81c.8-.78.8-2.07 0-2.86zM5.41 20L4 18.59l7.72-7.72 1.47 1.35L5.41 20z\"/>\n",
              "  </svg>\n",
              "      </button>\n",
              "      \n",
              "  <style>\n",
              "    .colab-df-container {\n",
              "      display:flex;\n",
              "      flex-wrap:wrap;\n",
              "      gap: 12px;\n",
              "    }\n",
              "\n",
              "    .colab-df-convert {\n",
              "      background-color: #E8F0FE;\n",
              "      border: none;\n",
              "      border-radius: 50%;\n",
              "      cursor: pointer;\n",
              "      display: none;\n",
              "      fill: #1967D2;\n",
              "      height: 32px;\n",
              "      padding: 0 0 0 0;\n",
              "      width: 32px;\n",
              "    }\n",
              "\n",
              "    .colab-df-convert:hover {\n",
              "      background-color: #E2EBFA;\n",
              "      box-shadow: 0px 1px 2px rgba(60, 64, 67, 0.3), 0px 1px 3px 1px rgba(60, 64, 67, 0.15);\n",
              "      fill: #174EA6;\n",
              "    }\n",
              "\n",
              "    [theme=dark] .colab-df-convert {\n",
              "      background-color: #3B4455;\n",
              "      fill: #D2E3FC;\n",
              "    }\n",
              "\n",
              "    [theme=dark] .colab-df-convert:hover {\n",
              "      background-color: #434B5C;\n",
              "      box-shadow: 0px 1px 3px 1px rgba(0, 0, 0, 0.15);\n",
              "      filter: drop-shadow(0px 1px 2px rgba(0, 0, 0, 0.3));\n",
              "      fill: #FFFFFF;\n",
              "    }\n",
              "  </style>\n",
              "\n",
              "      <script>\n",
              "        const buttonEl =\n",
              "          document.querySelector('#df-beab5198-ed76-4437-b81b-53deed79e2dd button.colab-df-convert');\n",
              "        buttonEl.style.display =\n",
              "          google.colab.kernel.accessAllowed ? 'block' : 'none';\n",
              "\n",
              "        async function convertToInteractive(key) {\n",
              "          const element = document.querySelector('#df-beab5198-ed76-4437-b81b-53deed79e2dd');\n",
              "          const dataTable =\n",
              "            await google.colab.kernel.invokeFunction('convertToInteractive',\n",
              "                                                     [key], {});\n",
              "          if (!dataTable) return;\n",
              "\n",
              "          const docLinkHtml = 'Like what you see? Visit the ' +\n",
              "            '<a target=\"_blank\" href=https://colab.research.google.com/notebooks/data_table.ipynb>data table notebook</a>'\n",
              "            + ' to learn more about interactive tables.';\n",
              "          element.innerHTML = '';\n",
              "          dataTable['output_type'] = 'display_data';\n",
              "          await google.colab.output.renderOutput(dataTable, element);\n",
              "          const docLink = document.createElement('div');\n",
              "          docLink.innerHTML = docLinkHtml;\n",
              "          element.appendChild(docLink);\n",
              "        }\n",
              "      </script>\n",
              "    </div>\n",
              "  </div>\n",
              "  "
            ]
          },
          "metadata": {},
          "execution_count": 106
        }
      ],
      "source": [
        "df_consistency_SECOP[['Unidad de Duracion','Duracion']].head(20)"
      ]
    },
    {
      "cell_type": "markdown",
      "source": [
        "#**Reguistro: Datos eliminados**\n",
        "realizamos una conversión al tiempo."
      ],
      "metadata": {
        "id": "pxgkbsRKdWnq"
      }
    },
    {
      "cell_type": "code",
      "execution_count": null,
      "metadata": {
        "ExecuteTime": {
          "end_time": "2021-03-01T03:40:17.679774Z",
          "start_time": "2021-03-01T03:40:17.529373Z"
        },
        "id": "F1H7VsOxMsT2",
        "colab": {
          "base_uri": "https://localhost:8080/"
        },
        "outputId": "35638083-3d86-474e-db76-6b0cdcc7efec"
      },
      "outputs": [
        {
          "output_type": "execute_result",
          "data": {
            "text/plain": [
              "Dias     840340\n",
              "Meses    753211\n",
              "Años      12703\n",
              "Name: Unidad de Duracion, dtype: int64"
            ]
          },
          "metadata": {},
          "execution_count": 107
        }
      ],
      "source": [
        "df_consistency_SECOP = df_consistency_SECOP[(df_consistency_SECOP['Unidad de Duracion'] != \"ND\")]\n",
        "df_consistency_SECOP['Unidad de Duracion'].value_counts()"
      ]
    },
    {
      "cell_type": "markdown",
      "source": [
        "#**Pasar mi fecha a formato unico**. \n",
        "Condicionales. Dejarlos todos en un mismo formato, el cual será en este caso días. Para los años se multiplicara la cantidad por 360 y los meses por 30 respectivamente. Estos resultados se guardarán en una nueva variable llamada *Duracion2*"
      ],
      "metadata": {
        "id": "4T2eXmUIejbg"
      }
    },
    {
      "cell_type": "code",
      "source": [
        "df_consistency_SECOP['Duracion2'] = np.where(df_consistency_SECOP['Unidad de Duracion'] == \"Dias\", df_consistency_SECOP['Duracion'], \n",
        "                                              np.where(df_consistency_SECOP['Unidad de Duracion'] == \"Meses\", df_consistency_SECOP['Duracion']*30, \n",
        "                                                       np.where(df_consistency_SECOP['Unidad de Duracion'] == \"Años\", df_consistency_SECOP['Duracion']*360, \"otro\")))"
      ],
      "metadata": {
        "id": "MIk2CV6dfPB9"
      },
      "execution_count": null,
      "outputs": []
    },
    {
      "cell_type": "code",
      "source": [
        "df_consistency_SECOP[['Unidad de Duracion','Duracion','Duracion2']].sample(20)"
      ],
      "metadata": {
        "id": "zWqUHYRVmPKo",
        "colab": {
          "base_uri": "https://localhost:8080/",
          "height": 677
        },
        "outputId": "0770d620-f3ae-418f-9f53-60b978740d18"
      },
      "execution_count": null,
      "outputs": [
        {
          "output_type": "execute_result",
          "data": {
            "text/plain": [
              "        Unidad de Duracion  Duracion Duracion2\n",
              "1316434               Dias        90        90\n",
              "782936                Dias       164       164\n",
              "1652342              Meses        11       330\n",
              "1552261              Meses         4       120\n",
              "1097143               Dias       330       330\n",
              "1478708              Meses         3        90\n",
              "947231               Meses         1        30\n",
              "1472790              Meses         1        30\n",
              "693898                Dias        56        56\n",
              "1355130               Dias        69        69\n",
              "378678               Meses        11       330\n",
              "374974               Meses         2        60\n",
              "1563890               Dias       240       240\n",
              "717144               Meses        12       360\n",
              "1088853               Dias        45        45\n",
              "27830                 Dias       136       136\n",
              "1672764              Meses         5       150\n",
              "1122265               Dias        21        21\n",
              "938539               Meses         3        90\n",
              "1189238               Dias        45        45"
            ],
            "text/html": [
              "\n",
              "  <div id=\"df-59193c8b-aa98-49d9-aa7a-c8967dc1a181\">\n",
              "    <div class=\"colab-df-container\">\n",
              "      <div>\n",
              "<style scoped>\n",
              "    .dataframe tbody tr th:only-of-type {\n",
              "        vertical-align: middle;\n",
              "    }\n",
              "\n",
              "    .dataframe tbody tr th {\n",
              "        vertical-align: top;\n",
              "    }\n",
              "\n",
              "    .dataframe thead th {\n",
              "        text-align: right;\n",
              "    }\n",
              "</style>\n",
              "<table border=\"1\" class=\"dataframe\">\n",
              "  <thead>\n",
              "    <tr style=\"text-align: right;\">\n",
              "      <th></th>\n",
              "      <th>Unidad de Duracion</th>\n",
              "      <th>Duracion</th>\n",
              "      <th>Duracion2</th>\n",
              "    </tr>\n",
              "  </thead>\n",
              "  <tbody>\n",
              "    <tr>\n",
              "      <th>1316434</th>\n",
              "      <td>Dias</td>\n",
              "      <td>90</td>\n",
              "      <td>90</td>\n",
              "    </tr>\n",
              "    <tr>\n",
              "      <th>782936</th>\n",
              "      <td>Dias</td>\n",
              "      <td>164</td>\n",
              "      <td>164</td>\n",
              "    </tr>\n",
              "    <tr>\n",
              "      <th>1652342</th>\n",
              "      <td>Meses</td>\n",
              "      <td>11</td>\n",
              "      <td>330</td>\n",
              "    </tr>\n",
              "    <tr>\n",
              "      <th>1552261</th>\n",
              "      <td>Meses</td>\n",
              "      <td>4</td>\n",
              "      <td>120</td>\n",
              "    </tr>\n",
              "    <tr>\n",
              "      <th>1097143</th>\n",
              "      <td>Dias</td>\n",
              "      <td>330</td>\n",
              "      <td>330</td>\n",
              "    </tr>\n",
              "    <tr>\n",
              "      <th>1478708</th>\n",
              "      <td>Meses</td>\n",
              "      <td>3</td>\n",
              "      <td>90</td>\n",
              "    </tr>\n",
              "    <tr>\n",
              "      <th>947231</th>\n",
              "      <td>Meses</td>\n",
              "      <td>1</td>\n",
              "      <td>30</td>\n",
              "    </tr>\n",
              "    <tr>\n",
              "      <th>1472790</th>\n",
              "      <td>Meses</td>\n",
              "      <td>1</td>\n",
              "      <td>30</td>\n",
              "    </tr>\n",
              "    <tr>\n",
              "      <th>693898</th>\n",
              "      <td>Dias</td>\n",
              "      <td>56</td>\n",
              "      <td>56</td>\n",
              "    </tr>\n",
              "    <tr>\n",
              "      <th>1355130</th>\n",
              "      <td>Dias</td>\n",
              "      <td>69</td>\n",
              "      <td>69</td>\n",
              "    </tr>\n",
              "    <tr>\n",
              "      <th>378678</th>\n",
              "      <td>Meses</td>\n",
              "      <td>11</td>\n",
              "      <td>330</td>\n",
              "    </tr>\n",
              "    <tr>\n",
              "      <th>374974</th>\n",
              "      <td>Meses</td>\n",
              "      <td>2</td>\n",
              "      <td>60</td>\n",
              "    </tr>\n",
              "    <tr>\n",
              "      <th>1563890</th>\n",
              "      <td>Dias</td>\n",
              "      <td>240</td>\n",
              "      <td>240</td>\n",
              "    </tr>\n",
              "    <tr>\n",
              "      <th>717144</th>\n",
              "      <td>Meses</td>\n",
              "      <td>12</td>\n",
              "      <td>360</td>\n",
              "    </tr>\n",
              "    <tr>\n",
              "      <th>1088853</th>\n",
              "      <td>Dias</td>\n",
              "      <td>45</td>\n",
              "      <td>45</td>\n",
              "    </tr>\n",
              "    <tr>\n",
              "      <th>27830</th>\n",
              "      <td>Dias</td>\n",
              "      <td>136</td>\n",
              "      <td>136</td>\n",
              "    </tr>\n",
              "    <tr>\n",
              "      <th>1672764</th>\n",
              "      <td>Meses</td>\n",
              "      <td>5</td>\n",
              "      <td>150</td>\n",
              "    </tr>\n",
              "    <tr>\n",
              "      <th>1122265</th>\n",
              "      <td>Dias</td>\n",
              "      <td>21</td>\n",
              "      <td>21</td>\n",
              "    </tr>\n",
              "    <tr>\n",
              "      <th>938539</th>\n",
              "      <td>Meses</td>\n",
              "      <td>3</td>\n",
              "      <td>90</td>\n",
              "    </tr>\n",
              "    <tr>\n",
              "      <th>1189238</th>\n",
              "      <td>Dias</td>\n",
              "      <td>45</td>\n",
              "      <td>45</td>\n",
              "    </tr>\n",
              "  </tbody>\n",
              "</table>\n",
              "</div>\n",
              "      <button class=\"colab-df-convert\" onclick=\"convertToInteractive('df-59193c8b-aa98-49d9-aa7a-c8967dc1a181')\"\n",
              "              title=\"Convert this dataframe to an interactive table.\"\n",
              "              style=\"display:none;\">\n",
              "        \n",
              "  <svg xmlns=\"http://www.w3.org/2000/svg\" height=\"24px\"viewBox=\"0 0 24 24\"\n",
              "       width=\"24px\">\n",
              "    <path d=\"M0 0h24v24H0V0z\" fill=\"none\"/>\n",
              "    <path d=\"M18.56 5.44l.94 2.06.94-2.06 2.06-.94-2.06-.94-.94-2.06-.94 2.06-2.06.94zm-11 1L8.5 8.5l.94-2.06 2.06-.94-2.06-.94L8.5 2.5l-.94 2.06-2.06.94zm10 10l.94 2.06.94-2.06 2.06-.94-2.06-.94-.94-2.06-.94 2.06-2.06.94z\"/><path d=\"M17.41 7.96l-1.37-1.37c-.4-.4-.92-.59-1.43-.59-.52 0-1.04.2-1.43.59L10.3 9.45l-7.72 7.72c-.78.78-.78 2.05 0 2.83L4 21.41c.39.39.9.59 1.41.59.51 0 1.02-.2 1.41-.59l7.78-7.78 2.81-2.81c.8-.78.8-2.07 0-2.86zM5.41 20L4 18.59l7.72-7.72 1.47 1.35L5.41 20z\"/>\n",
              "  </svg>\n",
              "      </button>\n",
              "      \n",
              "  <style>\n",
              "    .colab-df-container {\n",
              "      display:flex;\n",
              "      flex-wrap:wrap;\n",
              "      gap: 12px;\n",
              "    }\n",
              "\n",
              "    .colab-df-convert {\n",
              "      background-color: #E8F0FE;\n",
              "      border: none;\n",
              "      border-radius: 50%;\n",
              "      cursor: pointer;\n",
              "      display: none;\n",
              "      fill: #1967D2;\n",
              "      height: 32px;\n",
              "      padding: 0 0 0 0;\n",
              "      width: 32px;\n",
              "    }\n",
              "\n",
              "    .colab-df-convert:hover {\n",
              "      background-color: #E2EBFA;\n",
              "      box-shadow: 0px 1px 2px rgba(60, 64, 67, 0.3), 0px 1px 3px 1px rgba(60, 64, 67, 0.15);\n",
              "      fill: #174EA6;\n",
              "    }\n",
              "\n",
              "    [theme=dark] .colab-df-convert {\n",
              "      background-color: #3B4455;\n",
              "      fill: #D2E3FC;\n",
              "    }\n",
              "\n",
              "    [theme=dark] .colab-df-convert:hover {\n",
              "      background-color: #434B5C;\n",
              "      box-shadow: 0px 1px 3px 1px rgba(0, 0, 0, 0.15);\n",
              "      filter: drop-shadow(0px 1px 2px rgba(0, 0, 0, 0.3));\n",
              "      fill: #FFFFFF;\n",
              "    }\n",
              "  </style>\n",
              "\n",
              "      <script>\n",
              "        const buttonEl =\n",
              "          document.querySelector('#df-59193c8b-aa98-49d9-aa7a-c8967dc1a181 button.colab-df-convert');\n",
              "        buttonEl.style.display =\n",
              "          google.colab.kernel.accessAllowed ? 'block' : 'none';\n",
              "\n",
              "        async function convertToInteractive(key) {\n",
              "          const element = document.querySelector('#df-59193c8b-aa98-49d9-aa7a-c8967dc1a181');\n",
              "          const dataTable =\n",
              "            await google.colab.kernel.invokeFunction('convertToInteractive',\n",
              "                                                     [key], {});\n",
              "          if (!dataTable) return;\n",
              "\n",
              "          const docLinkHtml = 'Like what you see? Visit the ' +\n",
              "            '<a target=\"_blank\" href=https://colab.research.google.com/notebooks/data_table.ipynb>data table notebook</a>'\n",
              "            + ' to learn more about interactive tables.';\n",
              "          element.innerHTML = '';\n",
              "          dataTable['output_type'] = 'display_data';\n",
              "          await google.colab.output.renderOutput(dataTable, element);\n",
              "          const docLink = document.createElement('div');\n",
              "          docLink.innerHTML = docLinkHtml;\n",
              "          element.appendChild(docLink);\n",
              "        }\n",
              "      </script>\n",
              "    </div>\n",
              "  </div>\n",
              "  "
            ]
          },
          "metadata": {},
          "execution_count": 119
        }
      ]
    }
  ],
  "metadata": {
    "kernelspec": {
      "display_name": "Python 3",
      "language": "python",
      "name": "python3"
    },
    "language_info": {
      "codemirror_mode": {
        "name": "ipython",
        "version": 3
      },
      "file_extension": ".py",
      "mimetype": "text/x-python",
      "name": "python",
      "nbconvert_exporter": "python",
      "pygments_lexer": "ipython3",
      "version": "3.8.5"
    },
    "toc": {
      "base_numbering": 1,
      "nav_menu": {},
      "number_sections": true,
      "sideBar": true,
      "skip_h1_title": false,
      "title_cell": "Table of Contents",
      "title_sidebar": "Contents",
      "toc_cell": true,
      "toc_position": {},
      "toc_section_display": true,
      "toc_window_display": false
    },
    "varInspector": {
      "cols": {
        "lenName": 16,
        "lenType": 16,
        "lenVar": 40
      },
      "kernels_config": {
        "python": {
          "delete_cmd_postfix": "",
          "delete_cmd_prefix": "del ",
          "library": "var_list.py",
          "varRefreshCmd": "print(var_dic_list())"
        },
        "r": {
          "delete_cmd_postfix": ") ",
          "delete_cmd_prefix": "rm(",
          "library": "var_list.r",
          "varRefreshCmd": "cat(var_dic_list()) "
        }
      },
      "types_to_exclude": [
        "module",
        "function",
        "builtin_function_or_method",
        "instance",
        "_Feature"
      ],
      "window_display": false
    },
    "colab": {
      "name": "Taller #2 Pryor Jamphiers E",
      "provenance": []
    }
  },
  "nbformat": 4,
  "nbformat_minor": 0
}